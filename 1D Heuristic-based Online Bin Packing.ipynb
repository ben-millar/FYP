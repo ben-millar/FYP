{
 "cells": [
  {
   "cell_type": "markdown",
   "id": "b1e0d63d",
   "metadata": {},
   "source": [
    "#### Import dependencies"
   ]
  },
  {
   "cell_type": "code",
   "execution_count": 177,
   "id": "165baea7",
   "metadata": {},
   "outputs": [],
   "source": [
    "import math\n",
    "# generate random integer values\n",
    "from random import seed\n",
    "from random import randint\n",
    "# seed random number generator\n",
    "seed(1)"
   ]
  },
  {
   "cell_type": "markdown",
   "id": "78ed6379",
   "metadata": {},
   "source": [
    "#### Generate 1000 items in range 0 -> bin_capacity"
   ]
  },
  {
   "cell_type": "code",
   "execution_count": 178,
   "id": "6100e3ed",
   "metadata": {},
   "outputs": [],
   "source": [
    "bin_capacity = 10\n",
    "items = [randint(0, bin_capacity) for _ in range(10000)]"
   ]
  },
  {
   "cell_type": "markdown",
   "id": "3f5019b3",
   "metadata": {},
   "source": [
    "#### Determine the minimum number of bins that could be used"
   ]
  },
  {
   "cell_type": "code",
   "execution_count": 179,
   "id": "ac222251",
   "metadata": {},
   "outputs": [],
   "source": [
    "def lowerBound(items, bin_capacity):\n",
    "    return math.ceil(sum(items)/bin_capacity)"
   ]
  },
  {
   "cell_type": "markdown",
   "id": "1dc666e3",
   "metadata": {},
   "source": [
    "#### Next Fit Algorithm"
   ]
  },
  {
   "cell_type": "code",
   "execution_count": 180,
   "id": "ac8ca5cf",
   "metadata": {},
   "outputs": [],
   "source": [
    "def nextfit(items, bin_capacity):\n",
    "    res = 0\n",
    "    rem = bin_capacity\n",
    "    for i in range(len(items)):\n",
    "        if rem >= items[i]:\n",
    "            rem = rem - items[i]\n",
    "        else:\n",
    "            res += 1\n",
    "            rem = bin_capacity - items[i]\n",
    "    return res"
   ]
  },
  {
   "cell_type": "markdown",
   "id": "499f5e4a",
   "metadata": {},
   "source": [
    "#### First Fit Algorithm"
   ]
  },
  {
   "cell_type": "code",
   "execution_count": 181,
   "id": "dceb6c31",
   "metadata": {},
   "outputs": [],
   "source": [
    "def firstFit(items, bin_capacity):\n",
    "    res = 0\n",
    "\n",
    "    bin_rem = [0]*len(items)\n",
    "    \n",
    "    for i in range(len(items)):\n",
    "        j = 0\n",
    "        while (j < res):\n",
    "            if (bin_rem[j] >= items[i]):\n",
    "                bin_rem[j] = bin_rem[j] - items[i]\n",
    "                break\n",
    "            j+=1\n",
    "            \n",
    "        if (j == res):\n",
    "            bin_rem[res] = bin_capacity - items[i]\n",
    "            res = res + 1\n",
    "    return res"
   ]
  },
  {
   "cell_type": "code",
   "execution_count": 182,
   "id": "7a6fc68f",
   "metadata": {},
   "outputs": [],
   "source": [
    "def firstFitDecreasing(items, bin_capacity):\n",
    "    sorted_items = items.sort(reverse=True)\n",
    "    return firstFit(items, bin_capacity)\n",
    "    "
   ]
  },
  {
   "cell_type": "code",
   "execution_count": 183,
   "id": "0ab32d6c",
   "metadata": {},
   "outputs": [
    {
     "name": "stdout",
     "output_type": "stream",
     "text": [
      "Lower bound: 5007 bins required\n",
      "Next fit: 6367 bins used. 78.64% efficiency\n",
      "First fit: 5051 bins used. 99.13% efficiency\n",
      "First fit decreasing: 5021 bins used. 99.72% efficiency\n"
     ]
    }
   ],
   "source": [
    "lower_bound = lowerBound(items, bin_capacity)\n",
    "nf = nextfit(items, bin_capacity)\n",
    "ff = firstFit(items, bin_capacity)\n",
    "ffd = firstFitDecreasing(items, bin_capacity)\n",
    "print(f\"Lower bound: {lowerBound(items, bin_capacity)} bins required\")\n",
    "print(f\"Next fit: {nf} bins used. {round((lower_bound/nf)*100,2)}% efficiency\")\n",
    "print(f\"First fit: {ff} bins used. {round((lower_bound/ff)*100,2)}% efficiency\")\n",
    "print(f\"First fit decreasing: {ffd} bins used. {round((lower_bound/ffd)*100,2)}% efficiency\")"
   ]
  },
  {
   "cell_type": "code",
   "execution_count": null,
   "id": "91e6a99d",
   "metadata": {},
   "outputs": [],
   "source": []
  }
 ],
 "metadata": {
  "kernelspec": {
   "display_name": "Python 3 (ipykernel)",
   "language": "python",
   "name": "python3"
  },
  "language_info": {
   "codemirror_mode": {
    "name": "ipython",
    "version": 3
   },
   "file_extension": ".py",
   "mimetype": "text/x-python",
   "name": "python",
   "nbconvert_exporter": "python",
   "pygments_lexer": "ipython3",
   "version": "3.9.7"
  }
 },
 "nbformat": 4,
 "nbformat_minor": 5
}
