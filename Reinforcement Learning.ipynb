{
 "cells": [
  {
   "cell_type": "markdown",
   "id": "fcac1fc2",
   "metadata": {},
   "source": [
    "### 1. Import dependencies"
   ]
  },
  {
   "cell_type": "code",
   "execution_count": 1,
   "id": "7aadac2a",
   "metadata": {},
   "outputs": [
    {
     "name": "stdout",
     "output_type": "stream",
     "text": [
      "Requirement already satisfied: stable-baselines3[extra] in c:\\users\\ben_m\\anaconda3\\lib\\site-packages (1.3.0)\n",
      "Requirement already satisfied: pandas in c:\\users\\ben_m\\anaconda3\\lib\\site-packages (from stable-baselines3[extra]) (1.3.4)\n",
      "Requirement already satisfied: matplotlib in c:\\users\\ben_m\\anaconda3\\lib\\site-packages (from stable-baselines3[extra]) (3.4.3)\n",
      "Requirement already satisfied: cloudpickle in c:\\users\\ben_m\\anaconda3\\lib\\site-packages (from stable-baselines3[extra]) (1.6.0)\n",
      "Requirement already satisfied: numpy in c:\\users\\ben_m\\anaconda3\\lib\\site-packages (from stable-baselines3[extra]) (1.20.3)\n",
      "Requirement already satisfied: gym<0.20,>=0.17 in c:\\users\\ben_m\\anaconda3\\lib\\site-packages (from stable-baselines3[extra]) (0.19.0)\n",
      "Requirement already satisfied: torch>=1.8.1 in c:\\users\\ben_m\\anaconda3\\lib\\site-packages (from stable-baselines3[extra]) (1.10.0)\n",
      "Requirement already satisfied: atari-py~=0.2.0 in c:\\users\\ben_m\\anaconda3\\lib\\site-packages (from stable-baselines3[extra]) (0.2.9)\n",
      "Requirement already satisfied: psutil in c:\\users\\ben_m\\anaconda3\\lib\\site-packages (from stable-baselines3[extra]) (5.8.0)\n",
      "Requirement already satisfied: pillow in c:\\users\\ben_m\\anaconda3\\lib\\site-packages (from stable-baselines3[extra]) (8.4.0)\n",
      "Requirement already satisfied: opencv-python in c:\\users\\ben_m\\anaconda3\\lib\\site-packages (from stable-baselines3[extra]) (4.5.4.60)\n",
      "Requirement already satisfied: tensorboard>=2.2.0 in c:\\users\\ben_m\\anaconda3\\lib\\site-packages (from stable-baselines3[extra]) (2.7.0)\n",
      "Requirement already satisfied: six in c:\\users\\ben_m\\anaconda3\\lib\\site-packages (from atari-py~=0.2.0->stable-baselines3[extra]) (1.16.0)\n",
      "Requirement already satisfied: requests<3,>=2.21.0 in c:\\users\\ben_m\\anaconda3\\lib\\site-packages (from tensorboard>=2.2.0->stable-baselines3[extra]) (2.26.0)\n",
      "Requirement already satisfied: google-auth-oauthlib<0.5,>=0.4.1 in c:\\users\\ben_m\\anaconda3\\lib\\site-packages (from tensorboard>=2.2.0->stable-baselines3[extra]) (0.4.6)\n",
      "Requirement already satisfied: tensorboard-data-server<0.7.0,>=0.6.0 in c:\\users\\ben_m\\anaconda3\\lib\\site-packages (from tensorboard>=2.2.0->stable-baselines3[extra]) (0.6.1)\n",
      "Requirement already satisfied: google-auth<3,>=1.6.3 in c:\\users\\ben_m\\anaconda3\\lib\\site-packages (from tensorboard>=2.2.0->stable-baselines3[extra]) (2.3.3)\n",
      "Requirement already satisfied: setuptools>=41.0.0 in c:\\users\\ben_m\\anaconda3\\lib\\site-packages (from tensorboard>=2.2.0->stable-baselines3[extra]) (58.0.4)\n",
      "Requirement already satisfied: absl-py>=0.4 in c:\\users\\ben_m\\anaconda3\\lib\\site-packages (from tensorboard>=2.2.0->stable-baselines3[extra]) (1.0.0)\n",
      "Requirement already satisfied: grpcio>=1.24.3 in c:\\users\\ben_m\\anaconda3\\lib\\site-packages (from tensorboard>=2.2.0->stable-baselines3[extra]) (1.42.0)\n",
      "Requirement already satisfied: tensorboard-plugin-wit>=1.6.0 in c:\\users\\ben_m\\anaconda3\\lib\\site-packages (from tensorboard>=2.2.0->stable-baselines3[extra]) (1.8.0)\n",
      "Requirement already satisfied: werkzeug>=0.11.15 in c:\\users\\ben_m\\anaconda3\\lib\\site-packages (from tensorboard>=2.2.0->stable-baselines3[extra]) (2.0.2)\n",
      "Requirement already satisfied: wheel>=0.26 in c:\\users\\ben_m\\anaconda3\\lib\\site-packages (from tensorboard>=2.2.0->stable-baselines3[extra]) (0.37.0)\n",
      "Requirement already satisfied: markdown>=2.6.8 in c:\\users\\ben_m\\anaconda3\\lib\\site-packages (from tensorboard>=2.2.0->stable-baselines3[extra]) (3.3.6)\n",
      "Requirement already satisfied: protobuf>=3.6.0 in c:\\users\\ben_m\\anaconda3\\lib\\site-packages (from tensorboard>=2.2.0->stable-baselines3[extra]) (3.19.1)\n",
      "Requirement already satisfied: rsa<5,>=3.1.4 in c:\\users\\ben_m\\anaconda3\\lib\\site-packages (from google-auth<3,>=1.6.3->tensorboard>=2.2.0->stable-baselines3[extra]) (4.8)\n",
      "Requirement already satisfied: pyasn1-modules>=0.2.1 in c:\\users\\ben_m\\anaconda3\\lib\\site-packages (from google-auth<3,>=1.6.3->tensorboard>=2.2.0->stable-baselines3[extra]) (0.2.8)\n",
      "Requirement already satisfied: cachetools<5.0,>=2.0.0 in c:\\users\\ben_m\\anaconda3\\lib\\site-packages (from google-auth<3,>=1.6.3->tensorboard>=2.2.0->stable-baselines3[extra]) (4.2.4)\n",
      "Requirement already satisfied: requests-oauthlib>=0.7.0 in c:\\users\\ben_m\\anaconda3\\lib\\site-packages (from google-auth-oauthlib<0.5,>=0.4.1->tensorboard>=2.2.0->stable-baselines3[extra]) (1.3.0)\n",
      "Requirement already satisfied: importlib-metadata>=4.4 in c:\\users\\ben_m\\anaconda3\\lib\\site-packages (from markdown>=2.6.8->tensorboard>=2.2.0->stable-baselines3[extra]) (4.8.1)\n",
      "Requirement already satisfied: zipp>=0.5 in c:\\users\\ben_m\\anaconda3\\lib\\site-packages (from importlib-metadata>=4.4->markdown>=2.6.8->tensorboard>=2.2.0->stable-baselines3[extra]) (3.6.0)\n",
      "Requirement already satisfied: pyasn1<0.5.0,>=0.4.6 in c:\\users\\ben_m\\anaconda3\\lib\\site-packages (from pyasn1-modules>=0.2.1->google-auth<3,>=1.6.3->tensorboard>=2.2.0->stable-baselines3[extra]) (0.4.8)\n",
      "Requirement already satisfied: certifi>=2017.4.17 in c:\\users\\ben_m\\anaconda3\\lib\\site-packages (from requests<3,>=2.21.0->tensorboard>=2.2.0->stable-baselines3[extra]) (2021.10.8)\n",
      "Requirement already satisfied: charset-normalizer~=2.0.0 in c:\\users\\ben_m\\anaconda3\\lib\\site-packages (from requests<3,>=2.21.0->tensorboard>=2.2.0->stable-baselines3[extra]) (2.0.4)\n",
      "Requirement already satisfied: urllib3<1.27,>=1.21.1 in c:\\users\\ben_m\\anaconda3\\lib\\site-packages (from requests<3,>=2.21.0->tensorboard>=2.2.0->stable-baselines3[extra]) (1.26.7)\n",
      "Requirement already satisfied: idna<4,>=2.5 in c:\\users\\ben_m\\anaconda3\\lib\\site-packages (from requests<3,>=2.21.0->tensorboard>=2.2.0->stable-baselines3[extra]) (3.2)\n",
      "Requirement already satisfied: oauthlib>=3.0.0 in c:\\users\\ben_m\\anaconda3\\lib\\site-packages (from requests-oauthlib>=0.7.0->google-auth-oauthlib<0.5,>=0.4.1->tensorboard>=2.2.0->stable-baselines3[extra]) (3.1.1)\n",
      "Requirement already satisfied: typing-extensions in c:\\users\\ben_m\\anaconda3\\lib\\site-packages (from torch>=1.8.1->stable-baselines3[extra]) (3.10.0.2)\n",
      "Requirement already satisfied: kiwisolver>=1.0.1 in c:\\users\\ben_m\\anaconda3\\lib\\site-packages (from matplotlib->stable-baselines3[extra]) (1.3.1)\n",
      "Requirement already satisfied: cycler>=0.10 in c:\\users\\ben_m\\anaconda3\\lib\\site-packages (from matplotlib->stable-baselines3[extra]) (0.10.0)\n",
      "Requirement already satisfied: pyparsing>=2.2.1 in c:\\users\\ben_m\\anaconda3\\lib\\site-packages (from matplotlib->stable-baselines3[extra]) (3.0.4)\n",
      "Requirement already satisfied: python-dateutil>=2.7 in c:\\users\\ben_m\\anaconda3\\lib\\site-packages (from matplotlib->stable-baselines3[extra]) (2.8.2)\n",
      "Requirement already satisfied: pytz>=2017.3 in c:\\users\\ben_m\\anaconda3\\lib\\site-packages (from pandas->stable-baselines3[extra]) (2021.3)\n",
      "Requirement already satisfied: gym[all] in c:\\users\\ben_m\\anaconda3\\lib\\site-packages (0.19.0)\n",
      "Requirement already satisfied: cloudpickle<1.7.0,>=1.2.0 in c:\\users\\ben_m\\anaconda3\\lib\\site-packages (from gym[all]) (1.6.0)\n",
      "Requirement already satisfied: numpy>=1.18.0 in c:\\users\\ben_m\\anaconda3\\lib\\site-packages (from gym[all]) (1.20.3)\n",
      "Requirement already satisfied: scipy in c:\\users\\ben_m\\anaconda3\\lib\\site-packages (from gym[all]) (1.7.1)\n",
      "Requirement already satisfied: opencv-python>=3. in c:\\users\\ben_m\\anaconda3\\lib\\site-packages (from gym[all]) (4.5.4.60)\n",
      "Requirement already satisfied: imageio in c:\\users\\ben_m\\anaconda3\\lib\\site-packages (from gym[all]) (2.9.0)\n",
      "Collecting mujoco-py<2.0,>=1.50\n",
      "  Using cached mujoco-py-1.50.1.68.tar.gz (120 kB)\n",
      "Collecting box2d-py~=2.3.5\n",
      "  Using cached box2d-py-2.3.8.tar.gz (374 kB)\n",
      "Requirement already satisfied: pyglet>=1.4.0 in c:\\users\\ben_m\\anaconda3\\lib\\site-packages (from gym[all]) (1.5.21)\n",
      "Collecting atari-py==0.2.6\n",
      "  Using cached atari_py-0.2.6-cp39-cp39-win_amd64.whl\n",
      "Requirement already satisfied: six in c:\\users\\ben_m\\anaconda3\\lib\\site-packages (from atari-py==0.2.6->gym[all]) (1.16.0)\n",
      "Requirement already satisfied: glfw>=1.4.0 in c:\\users\\ben_m\\anaconda3\\lib\\site-packages (from mujoco-py<2.0,>=1.50->gym[all]) (2.4.0)\n",
      "Requirement already satisfied: Cython>=0.27.2 in c:\\users\\ben_m\\anaconda3\\lib\\site-packages (from mujoco-py<2.0,>=1.50->gym[all]) (0.29.24)\n",
      "Requirement already satisfied: cffi>=1.10 in c:\\users\\ben_m\\anaconda3\\lib\\site-packages (from mujoco-py<2.0,>=1.50->gym[all]) (1.14.6)\n",
      "Requirement already satisfied: lockfile>=0.12.2 in c:\\users\\ben_m\\anaconda3\\lib\\site-packages (from mujoco-py<2.0,>=1.50->gym[all]) (0.12.2)\n",
      "Requirement already satisfied: pycparser in c:\\users\\ben_m\\anaconda3\\lib\\site-packages (from cffi>=1.10->mujoco-py<2.0,>=1.50->gym[all]) (2.20)\n",
      "Requirement already satisfied: pillow in c:\\users\\ben_m\\anaconda3\\lib\\site-packages (from imageio->gym[all]) (8.4.0)\n",
      "Building wheels for collected packages: box2d-py, mujoco-py\n",
      "  Building wheel for box2d-py (setup.py): started\n",
      "  Building wheel for box2d-py (setup.py): finished with status 'error'\n",
      "  Running setup.py clean for box2d-py\n",
      "  Building wheel for mujoco-py (setup.py): started\n",
      "  Building wheel for mujoco-py (setup.py): finished with status 'error'\n",
      "  Running setup.py clean for mujoco-py\n",
      "Failed to build box2d-py mujoco-py\n",
      "Installing collected packages: mujoco-py, box2d-py, atari-py\n",
      "    Running setup.py install for mujoco-py: started\n",
      "    Running setup.py install for mujoco-py: finished with status 'error'\n"
     ]
    },
    {
     "name": "stderr",
     "output_type": "stream",
     "text": [
      "WARNING: The candidate selected for download or install is a yanked version: 'atari-py' candidate (version 0.2.6 at https://files.pythonhosted.org/packages/43/dd/2721f34a89dc520d2e09363fd23d110a33bbab2399e50fdced6eb2ed2157/atari-py-0.2.6.tar.gz#sha256=6249ad5079b0489e87eb44e65485bb1b07cc1b5af729f1ee52ece749503ceb1d (from https://pypi.org/simple/atari-py/))\n",
      "Reason for being yanked: re-release with new wheels\n",
      "  ERROR: Command errored out with exit status 1:\n",
      "   command: 'C:\\Users\\ben_m\\anaconda3\\python.exe' -u -c 'import io, os, sys, setuptools, tokenize; sys.argv[0] = '\"'\"'C:\\\\Users\\\\ben_m\\\\AppData\\\\Local\\\\Temp\\\\pip-install-ps3mizzd\\\\box2d-py_b9a1a47460364973a7c3fbf495f49a4f\\\\setup.py'\"'\"'; __file__='\"'\"'C:\\\\Users\\\\ben_m\\\\AppData\\\\Local\\\\Temp\\\\pip-install-ps3mizzd\\\\box2d-py_b9a1a47460364973a7c3fbf495f49a4f\\\\setup.py'\"'\"';f = getattr(tokenize, '\"'\"'open'\"'\"', open)(__file__) if os.path.exists(__file__) else io.StringIO('\"'\"'from setuptools import setup; setup()'\"'\"');code = f.read().replace('\"'\"'\\r\\n'\"'\"', '\"'\"'\\n'\"'\"');f.close();exec(compile(code, __file__, '\"'\"'exec'\"'\"'))' bdist_wheel -d 'C:\\Users\\ben_m\\AppData\\Local\\Temp\\pip-wheel-xfrhyi_q'\n",
      "       cwd: C:\\Users\\ben_m\\AppData\\Local\\Temp\\pip-install-ps3mizzd\\box2d-py_b9a1a47460364973a7c3fbf495f49a4f\\\n",
      "  Complete output (16 lines):\n",
      "  Using setuptools (version 58.0.4).\n",
      "  running bdist_wheel\n",
      "  running build\n",
      "  running build_py\n",
      "  creating build\n",
      "  creating build\\lib.win-amd64-3.9\n",
      "  creating build\\lib.win-amd64-3.9\\Box2D\n",
      "  copying library\\Box2D\\Box2D.py -> build\\lib.win-amd64-3.9\\Box2D\n",
      "  copying library\\Box2D\\__init__.py -> build\\lib.win-amd64-3.9\\Box2D\n",
      "  creating build\\lib.win-amd64-3.9\\Box2D\\b2\n",
      "  copying library\\Box2D\\b2\\__init__.py -> build\\lib.win-amd64-3.9\\Box2D\\b2\n",
      "  running build_ext\n",
      "  building 'Box2D._Box2D' extension\n",
      "  swigging Box2D\\Box2D.i to Box2D\\Box2D_wrap.cpp\n",
      "  swig.exe -python -c++ -IBox2D -small -O -includeall -ignoremissing -w201 -globals b2Globals -outdir library\\Box2D -keyword -w511 -D_SWIG_KWARGS -o Box2D\\Box2D_wrap.cpp Box2D\\Box2D.i\n",
      "  error: command 'swig.exe' failed: None\n",
      "  ----------------------------------------\n",
      "  ERROR: Failed building wheel for box2d-py\n",
      "  ERROR: Command errored out with exit status 1:\n",
      "   command: 'C:\\Users\\ben_m\\anaconda3\\python.exe' -u -c 'import io, os, sys, setuptools, tokenize; sys.argv[0] = '\"'\"'C:\\\\Users\\\\ben_m\\\\AppData\\\\Local\\\\Temp\\\\pip-install-ps3mizzd\\\\mujoco-py_41ae4e48333445979c40f1c0ad0ccf12\\\\setup.py'\"'\"'; __file__='\"'\"'C:\\\\Users\\\\ben_m\\\\AppData\\\\Local\\\\Temp\\\\pip-install-ps3mizzd\\\\mujoco-py_41ae4e48333445979c40f1c0ad0ccf12\\\\setup.py'\"'\"';f = getattr(tokenize, '\"'\"'open'\"'\"', open)(__file__) if os.path.exists(__file__) else io.StringIO('\"'\"'from setuptools import setup; setup()'\"'\"');code = f.read().replace('\"'\"'\\r\\n'\"'\"', '\"'\"'\\n'\"'\"');f.close();exec(compile(code, __file__, '\"'\"'exec'\"'\"'))' bdist_wheel -d 'C:\\Users\\ben_m\\AppData\\Local\\Temp\\pip-wheel-bmkw1srr'\n",
      "       cwd: C:\\Users\\ben_m\\AppData\\Local\\Temp\\pip-install-ps3mizzd\\mujoco-py_41ae4e48333445979c40f1c0ad0ccf12\\\n",
      "  Complete output (54 lines):\n",
      "  running bdist_wheel\n",
      "  running build\n",
      "  \n",
      "  You appear to be missing MuJoCo.  We expected to find the file here: C:\\Users\\ben_m\\.mujoco\\mjpro150\n",
      "  \n",
      "  This package only provides python bindings, the library must be installed separately.\n",
      "  \n",
      "  Please follow the instructions on the README to install MuJoCo\n",
      "  \n",
      "      https://github.com/openai/mujoco-py#install-mujoco\n",
      "  \n",
      "  Which can be downloaded from the website\n",
      "  \n",
      "      https://www.roboti.us/index.html\n",
      "  \n",
      "  Traceback (most recent call last):\n",
      "    File \"<string>\", line 1, in <module>\n",
      "    File \"C:\\Users\\ben_m\\AppData\\Local\\Temp\\pip-install-ps3mizzd\\mujoco-py_41ae4e48333445979c40f1c0ad0ccf12\\setup.py\", line 32, in <module>\n",
      "      setup(\n",
      "    File \"C:\\Users\\ben_m\\anaconda3\\lib\\site-packages\\setuptools\\__init__.py\", line 153, in setup\n",
      "      return distutils.core.setup(**attrs)\n",
      "    File \"C:\\Users\\ben_m\\anaconda3\\lib\\distutils\\core.py\", line 148, in setup\n",
      "      dist.run_commands()\n",
      "    File \"C:\\Users\\ben_m\\anaconda3\\lib\\distutils\\dist.py\", line 966, in run_commands\n",
      "      self.run_command(cmd)\n",
      "    File \"C:\\Users\\ben_m\\anaconda3\\lib\\distutils\\dist.py\", line 985, in run_command\n",
      "      cmd_obj.run()\n",
      "    File \"C:\\Users\\ben_m\\anaconda3\\lib\\site-packages\\wheel\\bdist_wheel.py\", line 299, in run\n",
      "      self.run_command('build')\n",
      "    File \"C:\\Users\\ben_m\\anaconda3\\lib\\distutils\\cmd.py\", line 313, in run_command\n",
      "      self.distribution.run_command(command)\n",
      "    File \"C:\\Users\\ben_m\\anaconda3\\lib\\distutils\\dist.py\", line 985, in run_command\n",
      "      cmd_obj.run()\n",
      "    File \"C:\\Users\\ben_m\\AppData\\Local\\Temp\\pip-install-ps3mizzd\\mujoco-py_41ae4e48333445979c40f1c0ad0ccf12\\setup.py\", line 28, in run\n",
      "      import mujoco_py  # noqa: force build\n",
      "    File \"C:\\Users\\ben_m\\AppData\\Local\\Temp\\pip-install-ps3mizzd\\mujoco-py_41ae4e48333445979c40f1c0ad0ccf12\\mujoco_py\\__init__.py\", line 3, in <module>\n",
      "      from mujoco_py.builder import cymj, ignore_mujoco_warnings, functions, MujocoException\n",
      "    File \"C:\\Users\\ben_m\\AppData\\Local\\Temp\\pip-install-ps3mizzd\\mujoco-py_41ae4e48333445979c40f1c0ad0ccf12\\mujoco_py\\builder.py\", line 502, in <module>\n",
      "      mjpro_path, key_path = discover_mujoco()\n",
      "    File \"C:\\Users\\ben_m\\AppData\\Local\\Temp\\pip-install-ps3mizzd\\mujoco-py_41ae4e48333445979c40f1c0ad0ccf12\\mujoco_py\\utils.py\", line 93, in discover_mujoco\n",
      "      raise Exception(message)\n",
      "  Exception:\n",
      "  You appear to be missing MuJoCo.  We expected to find the file here: C:\\Users\\ben_m\\.mujoco\\mjpro150\n",
      "  \n",
      "  This package only provides python bindings, the library must be installed separately.\n",
      "  \n",
      "  Please follow the instructions on the README to install MuJoCo\n",
      "  \n",
      "      https://github.com/openai/mujoco-py#install-mujoco\n",
      "  \n",
      "  Which can be downloaded from the website\n",
      "  \n",
      "      https://www.roboti.us/index.html\n",
      "  \n",
      "  ----------------------------------------\n",
      "  ERROR: Failed building wheel for mujoco-py\n",
      "    ERROR: Command errored out with exit status 1:\n",
      "     command: 'C:\\Users\\ben_m\\anaconda3\\python.exe' -u -c 'import io, os, sys, setuptools, tokenize; sys.argv[0] = '\"'\"'C:\\\\Users\\\\ben_m\\\\AppData\\\\Local\\\\Temp\\\\pip-install-ps3mizzd\\\\mujoco-py_41ae4e48333445979c40f1c0ad0ccf12\\\\setup.py'\"'\"'; __file__='\"'\"'C:\\\\Users\\\\ben_m\\\\AppData\\\\Local\\\\Temp\\\\pip-install-ps3mizzd\\\\mujoco-py_41ae4e48333445979c40f1c0ad0ccf12\\\\setup.py'\"'\"';f = getattr(tokenize, '\"'\"'open'\"'\"', open)(__file__) if os.path.exists(__file__) else io.StringIO('\"'\"'from setuptools import setup; setup()'\"'\"');code = f.read().replace('\"'\"'\\r\\n'\"'\"', '\"'\"'\\n'\"'\"');f.close();exec(compile(code, __file__, '\"'\"'exec'\"'\"'))' install --record 'C:\\Users\\ben_m\\AppData\\Local\\Temp\\pip-record-cz38mm2s\\install-record.txt' --single-version-externally-managed --compile --install-headers 'C:\\Users\\ben_m\\anaconda3\\Include\\mujoco-py'\n",
      "         cwd: C:\\Users\\ben_m\\AppData\\Local\\Temp\\pip-install-ps3mizzd\\mujoco-py_41ae4e48333445979c40f1c0ad0ccf12\\\n",
      "    Complete output (56 lines):\n",
      "    running install\n",
      "    running build\n",
      "    \n",
      "    You appear to be missing MuJoCo.  We expected to find the file here: C:\\Users\\ben_m\\.mujoco\\mjpro150\n",
      "    \n",
      "    This package only provides python bindings, the library must be installed separately.\n",
      "    \n",
      "    Please follow the instructions on the README to install MuJoCo\n",
      "    \n",
      "        https://github.com/openai/mujoco-py#install-mujoco\n",
      "    \n",
      "    Which can be downloaded from the website\n",
      "    \n",
      "        https://www.roboti.us/index.html\n",
      "    \n",
      "    Traceback (most recent call last):\n",
      "      File \"<string>\", line 1, in <module>\n",
      "      File \"C:\\Users\\ben_m\\AppData\\Local\\Temp\\pip-install-ps3mizzd\\mujoco-py_41ae4e48333445979c40f1c0ad0ccf12\\setup.py\", line 32, in <module>\n",
      "        setup(\n",
      "      File \"C:\\Users\\ben_m\\anaconda3\\lib\\site-packages\\setuptools\\__init__.py\", line 153, in setup\n",
      "        return distutils.core.setup(**attrs)\n",
      "      File \"C:\\Users\\ben_m\\anaconda3\\lib\\distutils\\core.py\", line 148, in setup\n",
      "        dist.run_commands()\n",
      "      File \"C:\\Users\\ben_m\\anaconda3\\lib\\distutils\\dist.py\", line 966, in run_commands\n",
      "        self.run_command(cmd)\n",
      "      File \"C:\\Users\\ben_m\\anaconda3\\lib\\distutils\\dist.py\", line 985, in run_command\n",
      "        cmd_obj.run()\n",
      "      File \"C:\\Users\\ben_m\\anaconda3\\lib\\site-packages\\setuptools\\command\\install.py\", line 61, in run\n",
      "        return orig.install.run(self)\n",
      "      File \"C:\\Users\\ben_m\\anaconda3\\lib\\distutils\\command\\install.py\", line 546, in run\n",
      "        self.run_command('build')\n",
      "      File \"C:\\Users\\ben_m\\anaconda3\\lib\\distutils\\cmd.py\", line 313, in run_command\n",
      "        self.distribution.run_command(command)\n",
      "      File \"C:\\Users\\ben_m\\anaconda3\\lib\\distutils\\dist.py\", line 985, in run_command\n",
      "        cmd_obj.run()\n",
      "      File \"C:\\Users\\ben_m\\AppData\\Local\\Temp\\pip-install-ps3mizzd\\mujoco-py_41ae4e48333445979c40f1c0ad0ccf12\\setup.py\", line 28, in run\n",
      "        import mujoco_py  # noqa: force build\n",
      "      File \"C:\\Users\\ben_m\\AppData\\Local\\Temp\\pip-install-ps3mizzd\\mujoco-py_41ae4e48333445979c40f1c0ad0ccf12\\mujoco_py\\__init__.py\", line 3, in <module>\n",
      "        from mujoco_py.builder import cymj, ignore_mujoco_warnings, functions, MujocoException\n",
      "      File \"C:\\Users\\ben_m\\AppData\\Local\\Temp\\pip-install-ps3mizzd\\mujoco-py_41ae4e48333445979c40f1c0ad0ccf12\\mujoco_py\\builder.py\", line 502, in <module>\n",
      "        mjpro_path, key_path = discover_mujoco()\n",
      "      File \"C:\\Users\\ben_m\\AppData\\Local\\Temp\\pip-install-ps3mizzd\\mujoco-py_41ae4e48333445979c40f1c0ad0ccf12\\mujoco_py\\utils.py\", line 93, in discover_mujoco\n",
      "        raise Exception(message)\n",
      "    Exception:\n",
      "    You appear to be missing MuJoCo.  We expected to find the file here: C:\\Users\\ben_m\\.mujoco\\mjpro150\n",
      "    \n",
      "    This package only provides python bindings, the library must be installed separately.\n",
      "    \n",
      "    Please follow the instructions on the README to install MuJoCo\n",
      "    \n",
      "        https://github.com/openai/mujoco-py#install-mujoco\n",
      "    \n",
      "    Which can be downloaded from the website\n",
      "    \n",
      "        https://www.roboti.us/index.html\n",
      "    \n",
      "    ----------------------------------------\n",
      "ERROR: Command errored out with exit status 1: 'C:\\Users\\ben_m\\anaconda3\\python.exe' -u -c 'import io, os, sys, setuptools, tokenize; sys.argv[0] = '\"'\"'C:\\\\Users\\\\ben_m\\\\AppData\\\\Local\\\\Temp\\\\pip-install-ps3mizzd\\\\mujoco-py_41ae4e48333445979c40f1c0ad0ccf12\\\\setup.py'\"'\"'; __file__='\"'\"'C:\\\\Users\\\\ben_m\\\\AppData\\\\Local\\\\Temp\\\\pip-install-ps3mizzd\\\\mujoco-py_41ae4e48333445979c40f1c0ad0ccf12\\\\setup.py'\"'\"';f = getattr(tokenize, '\"'\"'open'\"'\"', open)(__file__) if os.path.exists(__file__) else io.StringIO('\"'\"'from setuptools import setup; setup()'\"'\"');code = f.read().replace('\"'\"'\\r\\n'\"'\"', '\"'\"'\\n'\"'\"');f.close();exec(compile(code, __file__, '\"'\"'exec'\"'\"'))' install --record 'C:\\Users\\ben_m\\AppData\\Local\\Temp\\pip-record-cz38mm2s\\install-record.txt' --single-version-externally-managed --compile --install-headers 'C:\\Users\\ben_m\\anaconda3\\Include\\mujoco-py' Check the logs for full command output.\n"
     ]
    },
    {
     "name": "stdout",
     "output_type": "stream",
     "text": [
      "Requirement already satisfied: tensorboard in c:\\users\\ben_m\\anaconda3\\lib\\site-packages (2.7.0)\n",
      "Requirement already satisfied: google-auth<3,>=1.6.3 in c:\\users\\ben_m\\anaconda3\\lib\\site-packages (from tensorboard) (2.3.3)\n",
      "Requirement already satisfied: grpcio>=1.24.3 in c:\\users\\ben_m\\anaconda3\\lib\\site-packages (from tensorboard) (1.42.0)\n",
      "Requirement already satisfied: numpy>=1.12.0 in c:\\users\\ben_m\\anaconda3\\lib\\site-packages (from tensorboard) (1.20.3)\n",
      "Requirement already satisfied: markdown>=2.6.8 in c:\\users\\ben_m\\anaconda3\\lib\\site-packages (from tensorboard) (3.3.6)\n",
      "Requirement already satisfied: tensorboard-data-server<0.7.0,>=0.6.0 in c:\\users\\ben_m\\anaconda3\\lib\\site-packages (from tensorboard) (0.6.1)\n",
      "Requirement already satisfied: tensorboard-plugin-wit>=1.6.0 in c:\\users\\ben_m\\anaconda3\\lib\\site-packages (from tensorboard) (1.8.0)\n",
      "Requirement already satisfied: werkzeug>=0.11.15 in c:\\users\\ben_m\\anaconda3\\lib\\site-packages (from tensorboard) (2.0.2)\n",
      "Requirement already satisfied: wheel>=0.26 in c:\\users\\ben_m\\anaconda3\\lib\\site-packages (from tensorboard) (0.37.0)\n",
      "Requirement already satisfied: setuptools>=41.0.0 in c:\\users\\ben_m\\anaconda3\\lib\\site-packages (from tensorboard) (58.0.4)\n",
      "Requirement already satisfied: absl-py>=0.4 in c:\\users\\ben_m\\anaconda3\\lib\\site-packages (from tensorboard) (1.0.0)\n",
      "Requirement already satisfied: protobuf>=3.6.0 in c:\\users\\ben_m\\anaconda3\\lib\\site-packages (from tensorboard) (3.19.1)\n",
      "Requirement already satisfied: requests<3,>=2.21.0 in c:\\users\\ben_m\\anaconda3\\lib\\site-packages (from tensorboard) (2.26.0)\n",
      "Requirement already satisfied: google-auth-oauthlib<0.5,>=0.4.1 in c:\\users\\ben_m\\anaconda3\\lib\\site-packages (from tensorboard) (0.4.6)\n",
      "Requirement already satisfied: six in c:\\users\\ben_m\\anaconda3\\lib\\site-packages (from absl-py>=0.4->tensorboard) (1.16.0)\n",
      "Requirement already satisfied: cachetools<5.0,>=2.0.0 in c:\\users\\ben_m\\anaconda3\\lib\\site-packages (from google-auth<3,>=1.6.3->tensorboard) (4.2.4)\n",
      "Requirement already satisfied: pyasn1-modules>=0.2.1 in c:\\users\\ben_m\\anaconda3\\lib\\site-packages (from google-auth<3,>=1.6.3->tensorboard) (0.2.8)\n",
      "Requirement already satisfied: rsa<5,>=3.1.4 in c:\\users\\ben_m\\anaconda3\\lib\\site-packages (from google-auth<3,>=1.6.3->tensorboard) (4.8)\n",
      "Requirement already satisfied: requests-oauthlib>=0.7.0 in c:\\users\\ben_m\\anaconda3\\lib\\site-packages (from google-auth-oauthlib<0.5,>=0.4.1->tensorboard) (1.3.0)\n",
      "Requirement already satisfied: importlib-metadata>=4.4 in c:\\users\\ben_m\\anaconda3\\lib\\site-packages (from markdown>=2.6.8->tensorboard) (4.8.1)\n",
      "Requirement already satisfied: zipp>=0.5 in c:\\users\\ben_m\\anaconda3\\lib\\site-packages (from importlib-metadata>=4.4->markdown>=2.6.8->tensorboard) (3.6.0)\n",
      "Requirement already satisfied: pyasn1<0.5.0,>=0.4.6 in c:\\users\\ben_m\\anaconda3\\lib\\site-packages (from pyasn1-modules>=0.2.1->google-auth<3,>=1.6.3->tensorboard) (0.4.8)\n",
      "Requirement already satisfied: idna<4,>=2.5 in c:\\users\\ben_m\\anaconda3\\lib\\site-packages (from requests<3,>=2.21.0->tensorboard) (3.2)\n",
      "Requirement already satisfied: charset-normalizer~=2.0.0 in c:\\users\\ben_m\\anaconda3\\lib\\site-packages (from requests<3,>=2.21.0->tensorboard) (2.0.4)\n",
      "Requirement already satisfied: certifi>=2017.4.17 in c:\\users\\ben_m\\anaconda3\\lib\\site-packages (from requests<3,>=2.21.0->tensorboard) (2021.10.8)\n",
      "Requirement already satisfied: urllib3<1.27,>=1.21.1 in c:\\users\\ben_m\\anaconda3\\lib\\site-packages (from requests<3,>=2.21.0->tensorboard) (1.26.7)\n",
      "Requirement already satisfied: oauthlib>=3.0.0 in c:\\users\\ben_m\\anaconda3\\lib\\site-packages (from requests-oauthlib>=0.7.0->google-auth-oauthlib<0.5,>=0.4.1->tensorboard) (3.1.1)\n"
     ]
    }
   ],
   "source": [
    "!pip install stable-baselines3[extra]\n",
    "!pip install gym[all]\n",
    "!pip install tensorboard"
   ]
  },
  {
   "cell_type": "code",
   "execution_count": 2,
   "id": "d42549d0",
   "metadata": {},
   "outputs": [
    {
     "name": "stdout",
     "output_type": "stream",
     "text": [
      "Requirement already satisfied: pyglet in c:\\users\\ben_m\\anaconda3\\lib\\site-packages (1.5.21)\n"
     ]
    }
   ],
   "source": [
    "!pip install pyglet"
   ]
  },
  {
   "cell_type": "code",
   "execution_count": 3,
   "id": "d851153e",
   "metadata": {},
   "outputs": [],
   "source": [
    "import os\n",
    "import gym\n",
    "from stable_baselines3 import PPO\n",
    "from stable_baselines3.common.vec_env import DummyVecEnv\n",
    "from stable_baselines3.common.evaluation import evaluate_policy"
   ]
  },
  {
   "cell_type": "markdown",
   "id": "b78184c6",
   "metadata": {},
   "source": [
    "### 2. Load Environment"
   ]
  },
  {
   "cell_type": "code",
   "execution_count": 4,
   "id": "1cb2f2c3",
   "metadata": {},
   "outputs": [],
   "source": [
    "environment_name = 'CartPole-v0'\n",
    "env = gym.make(environment_name)"
   ]
  },
  {
   "cell_type": "code",
   "execution_count": 5,
   "id": "d9bca3f3",
   "metadata": {},
   "outputs": [
    {
     "name": "stdout",
     "output_type": "stream",
     "text": [
      "Episode: 1 Score: 31.0\n",
      "Episode: 2 Score: 32.0\n",
      "Episode: 3 Score: 22.0\n",
      "Episode: 4 Score: 14.0\n",
      "Episode: 5 Score: 47.0\n"
     ]
    }
   ],
   "source": [
    "episodes = 5\n",
    "for episode in range(1, episodes+1):\n",
    "    state = env.reset()\n",
    "    done = False\n",
    "    score = 0\n",
    "    \n",
    "    while not done:\n",
    "        env.render()\n",
    "        action = env.action_space.sample()\n",
    "        n_state, reward, done, info = env.step(action)\n",
    "        score += reward\n",
    "    print('Episode: {} Score: {}'.format(episode, score))\n",
    "env.close()"
   ]
  },
  {
   "cell_type": "markdown",
   "id": "b39919b9",
   "metadata": {},
   "source": [
    "### 3. Train an RL Model"
   ]
  },
  {
   "cell_type": "code",
   "execution_count": 6,
   "id": "c4e68707",
   "metadata": {},
   "outputs": [],
   "source": [
    "# These need to be manually created first\n",
    "log_path = os.path.join('Training', 'Logs')"
   ]
  },
  {
   "cell_type": "code",
   "execution_count": 7,
   "id": "b1cbce4b",
   "metadata": {},
   "outputs": [
    {
     "name": "stdout",
     "output_type": "stream",
     "text": [
      "Using cpu device\n"
     ]
    }
   ],
   "source": [
    "env = gym.make(environment_name)\n",
    "env = DummyVecEnv([lambda: env])\n",
    "model = PPO('MlpPolicy', env, verbose=1, tensorboard_log=log_path)"
   ]
  },
  {
   "cell_type": "code",
   "execution_count": 8,
   "id": "cf57dc0b",
   "metadata": {},
   "outputs": [
    {
     "name": "stdout",
     "output_type": "stream",
     "text": [
      "Logging to Training\\Logs\\PPO_13\n",
      "-----------------------------\n",
      "| time/              |      |\n",
      "|    fps             | 635  |\n",
      "|    iterations      | 1    |\n",
      "|    time_elapsed    | 3    |\n",
      "|    total_timesteps | 2048 |\n",
      "-----------------------------\n",
      "-----------------------------------------\n",
      "| time/                   |             |\n",
      "|    fps                  | 838         |\n",
      "|    iterations           | 2           |\n",
      "|    time_elapsed         | 4           |\n",
      "|    total_timesteps      | 4096        |\n",
      "| train/                  |             |\n",
      "|    approx_kl            | 0.007720075 |\n",
      "|    clip_fraction        | 0.0833      |\n",
      "|    clip_range           | 0.2         |\n",
      "|    entropy_loss         | -0.687      |\n",
      "|    explained_variance   | 0.00547     |\n",
      "|    learning_rate        | 0.0003      |\n",
      "|    loss                 | 10.7        |\n",
      "|    n_updates            | 10          |\n",
      "|    policy_gradient_loss | -0.0117     |\n",
      "|    value_loss           | 53.4        |\n",
      "-----------------------------------------\n",
      "------------------------------------------\n",
      "| time/                   |              |\n",
      "|    fps                  | 929          |\n",
      "|    iterations           | 3            |\n",
      "|    time_elapsed         | 6            |\n",
      "|    total_timesteps      | 6144         |\n",
      "| train/                  |              |\n",
      "|    approx_kl            | 0.0111190295 |\n",
      "|    clip_fraction        | 0.0785       |\n",
      "|    clip_range           | 0.2          |\n",
      "|    entropy_loss         | -0.666       |\n",
      "|    explained_variance   | 0.113        |\n",
      "|    learning_rate        | 0.0003       |\n",
      "|    loss                 | 18.9         |\n",
      "|    n_updates            | 20           |\n",
      "|    policy_gradient_loss | -0.0191      |\n",
      "|    value_loss           | 35.6         |\n",
      "------------------------------------------\n",
      "-----------------------------------------\n",
      "| time/                   |             |\n",
      "|    fps                  | 968         |\n",
      "|    iterations           | 4           |\n",
      "|    time_elapsed         | 8           |\n",
      "|    total_timesteps      | 8192        |\n",
      "| train/                  |             |\n",
      "|    approx_kl            | 0.007971391 |\n",
      "|    clip_fraction        | 0.0734      |\n",
      "|    clip_range           | 0.2         |\n",
      "|    entropy_loss         | -0.634      |\n",
      "|    explained_variance   | 0.232       |\n",
      "|    learning_rate        | 0.0003      |\n",
      "|    loss                 | 18.8        |\n",
      "|    n_updates            | 30          |\n",
      "|    policy_gradient_loss | -0.0178     |\n",
      "|    value_loss           | 51.4        |\n",
      "-----------------------------------------\n",
      "----------------------------------------\n",
      "| time/                   |            |\n",
      "|    fps                  | 947        |\n",
      "|    iterations           | 5          |\n",
      "|    time_elapsed         | 10         |\n",
      "|    total_timesteps      | 10240      |\n",
      "| train/                  |            |\n",
      "|    approx_kl            | 0.00684095 |\n",
      "|    clip_fraction        | 0.0661     |\n",
      "|    clip_range           | 0.2        |\n",
      "|    entropy_loss         | -0.611     |\n",
      "|    explained_variance   | 0.307      |\n",
      "|    learning_rate        | 0.0003     |\n",
      "|    loss                 | 28.6       |\n",
      "|    n_updates            | 40         |\n",
      "|    policy_gradient_loss | -0.0165    |\n",
      "|    value_loss           | 65.2       |\n",
      "----------------------------------------\n",
      "-----------------------------------------\n",
      "| time/                   |             |\n",
      "|    fps                  | 964         |\n",
      "|    iterations           | 6           |\n",
      "|    time_elapsed         | 12          |\n",
      "|    total_timesteps      | 12288       |\n",
      "| train/                  |             |\n",
      "|    approx_kl            | 0.007671169 |\n",
      "|    clip_fraction        | 0.0843      |\n",
      "|    clip_range           | 0.2         |\n",
      "|    entropy_loss         | -0.588      |\n",
      "|    explained_variance   | 0.459       |\n",
      "|    learning_rate        | 0.0003      |\n",
      "|    loss                 | 24.9        |\n",
      "|    n_updates            | 50          |\n",
      "|    policy_gradient_loss | -0.017      |\n",
      "|    value_loss           | 61.4        |\n",
      "-----------------------------------------\n",
      "------------------------------------------\n",
      "| time/                   |              |\n",
      "|    fps                  | 990          |\n",
      "|    iterations           | 7            |\n",
      "|    time_elapsed         | 14           |\n",
      "|    total_timesteps      | 14336        |\n",
      "| train/                  |              |\n",
      "|    approx_kl            | 0.0034338855 |\n",
      "|    clip_fraction        | 0.0184       |\n",
      "|    clip_range           | 0.2          |\n",
      "|    entropy_loss         | -0.583       |\n",
      "|    explained_variance   | 0.249        |\n",
      "|    learning_rate        | 0.0003       |\n",
      "|    loss                 | 14.6         |\n",
      "|    n_updates            | 60           |\n",
      "|    policy_gradient_loss | -0.00347     |\n",
      "|    value_loss           | 75.9         |\n",
      "------------------------------------------\n",
      "-----------------------------------------\n",
      "| time/                   |             |\n",
      "|    fps                  | 1015        |\n",
      "|    iterations           | 8           |\n",
      "|    time_elapsed         | 16          |\n",
      "|    total_timesteps      | 16384       |\n",
      "| train/                  |             |\n",
      "|    approx_kl            | 0.005648425 |\n",
      "|    clip_fraction        | 0.0197      |\n",
      "|    clip_range           | 0.2         |\n",
      "|    entropy_loss         | -0.575      |\n",
      "|    explained_variance   | 0.3         |\n",
      "|    learning_rate        | 0.0003      |\n",
      "|    loss                 | 33.1        |\n",
      "|    n_updates            | 70          |\n",
      "|    policy_gradient_loss | -0.00457    |\n",
      "|    value_loss           | 85.8        |\n",
      "-----------------------------------------\n",
      "-----------------------------------------\n",
      "| time/                   |             |\n",
      "|    fps                  | 1034        |\n",
      "|    iterations           | 9           |\n",
      "|    time_elapsed         | 17          |\n",
      "|    total_timesteps      | 18432       |\n",
      "| train/                  |             |\n",
      "|    approx_kl            | 0.004284595 |\n",
      "|    clip_fraction        | 0.0213      |\n",
      "|    clip_range           | 0.2         |\n",
      "|    entropy_loss         | -0.561      |\n",
      "|    explained_variance   | 0.421       |\n",
      "|    learning_rate        | 0.0003      |\n",
      "|    loss                 | 40          |\n",
      "|    n_updates            | 80          |\n",
      "|    policy_gradient_loss | -0.00361    |\n",
      "|    value_loss           | 76.4        |\n",
      "-----------------------------------------\n",
      "------------------------------------------\n",
      "| time/                   |              |\n",
      "|    fps                  | 1048         |\n",
      "|    iterations           | 10           |\n",
      "|    time_elapsed         | 19           |\n",
      "|    total_timesteps      | 20480        |\n",
      "| train/                  |              |\n",
      "|    approx_kl            | 0.0060046045 |\n",
      "|    clip_fraction        | 0.0245       |\n",
      "|    clip_range           | 0.2          |\n",
      "|    entropy_loss         | -0.553       |\n",
      "|    explained_variance   | 0.178        |\n",
      "|    learning_rate        | 0.0003       |\n",
      "|    loss                 | 29.1         |\n",
      "|    n_updates            | 90           |\n",
      "|    policy_gradient_loss | -0.00211     |\n",
      "|    value_loss           | 109          |\n",
      "------------------------------------------\n"
     ]
    },
    {
     "data": {
      "text/plain": [
       "<stable_baselines3.ppo.ppo.PPO at 0x260873faca0>"
      ]
     },
     "execution_count": 8,
     "metadata": {},
     "output_type": "execute_result"
    }
   ],
   "source": [
    "model.learn(total_timesteps=20000)"
   ]
  },
  {
   "cell_type": "markdown",
   "id": "009a508e",
   "metadata": {},
   "source": [
    "### 4. Save and Reload Model"
   ]
  },
  {
   "cell_type": "code",
   "execution_count": 9,
   "id": "f0e33c38",
   "metadata": {},
   "outputs": [],
   "source": [
    "PPO_Path = os.path.join('Training', 'Saved Models', 'PPO_Model_Cartpole')"
   ]
  },
  {
   "cell_type": "code",
   "execution_count": 10,
   "id": "bca28831",
   "metadata": {},
   "outputs": [],
   "source": [
    "model.save(PPO_Path)"
   ]
  },
  {
   "cell_type": "code",
   "execution_count": null,
   "id": "dd521834",
   "metadata": {},
   "outputs": [],
   "source": [
    "del model"
   ]
  },
  {
   "cell_type": "code",
   "execution_count": null,
   "id": "88e44725",
   "metadata": {},
   "outputs": [],
   "source": [
    "model = PPO.load(PPO_Path, env=env)"
   ]
  },
  {
   "cell_type": "markdown",
   "id": "97b77ce9",
   "metadata": {},
   "source": [
    "### 5. Evaluation"
   ]
  },
  {
   "cell_type": "code",
   "execution_count": 9,
   "id": "83bac512",
   "metadata": {},
   "outputs": [
    {
     "name": "stderr",
     "output_type": "stream",
     "text": [
      "C:\\Users\\ben_m\\anaconda3\\lib\\site-packages\\stable_baselines3\\common\\evaluation.py:65: UserWarning: Evaluation environment is not wrapped with a ``Monitor`` wrapper. This may result in reporting modified episode lengths and rewards, if other wrappers happen to modify these. Consider wrapping environment first with ``Monitor`` wrapper.\n",
      "  warnings.warn(\n"
     ]
    },
    {
     "data": {
      "text/plain": [
       "(198.2, 2.7856776554368237)"
      ]
     },
     "execution_count": 9,
     "metadata": {},
     "output_type": "execute_result"
    }
   ],
   "source": [
    "evaluate_policy(model, env, n_eval_episodes=10, render=True)"
   ]
  },
  {
   "cell_type": "code",
   "execution_count": 10,
   "id": "48a7edcb",
   "metadata": {},
   "outputs": [],
   "source": [
    "env.close()"
   ]
  },
  {
   "cell_type": "markdown",
   "id": "8ff1763e",
   "metadata": {},
   "source": [
    "### 6. Test Model"
   ]
  },
  {
   "cell_type": "code",
   "execution_count": 11,
   "id": "7ca87462",
   "metadata": {},
   "outputs": [
    {
     "name": "stdout",
     "output_type": "stream",
     "text": [
      "Episode: 1 Score: [200.]\n",
      "Episode: 2 Score: [172.]\n",
      "Episode: 3 Score: [144.]\n",
      "Episode: 4 Score: [200.]\n",
      "Episode: 5 Score: [173.]\n"
     ]
    }
   ],
   "source": [
    "episodes = 5\n",
    "for episode in range(1, episodes+1):\n",
    "    obs = env.reset()\n",
    "    done = False\n",
    "    score = 0\n",
    "    \n",
    "    while not done:\n",
    "        env.render()\n",
    "        action, _ = model.predict(obs)\n",
    "        obs, reward, done, info = env.step(action)\n",
    "        score += reward\n",
    "    print('Episode: {} Score: {}'.format(episode, score))\n",
    "env.close()"
   ]
  },
  {
   "cell_type": "markdown",
   "id": "fe874ec2",
   "metadata": {},
   "source": [
    "### 7. Viewing logs in Tensorboard"
   ]
  },
  {
   "cell_type": "code",
   "execution_count": 16,
   "id": "c36130f1",
   "metadata": {},
   "outputs": [],
   "source": [
    "training_log_path = os.path.join(log_path, 'PPO_3')"
   ]
  },
  {
   "cell_type": "code",
   "execution_count": null,
   "id": "ca69f85a",
   "metadata": {},
   "outputs": [],
   "source": [
    "!tensorboard --logdir=(training_log_path)"
   ]
  },
  {
   "cell_type": "markdown",
   "id": "99eb231f",
   "metadata": {},
   "source": [
    "### 8. Adding a callback to the training state"
   ]
  },
  {
   "cell_type": "markdown",
   "id": "5f633620",
   "metadata": {},
   "source": [
    "### 9. Changing Policies"
   ]
  },
  {
   "cell_type": "markdown",
   "id": "1ed83b11",
   "metadata": {},
   "source": [
    "### 10. Using an Alternate Algorithm"
   ]
  },
  {
   "cell_type": "code",
   "execution_count": null,
   "id": "aa80d5d5",
   "metadata": {},
   "outputs": [],
   "source": []
  }
 ],
 "metadata": {
  "kernelspec": {
   "display_name": "Python 3 (ipykernel)",
   "language": "python",
   "name": "python3"
  },
  "language_info": {
   "codemirror_mode": {
    "name": "ipython",
    "version": 3
   },
   "file_extension": ".py",
   "mimetype": "text/x-python",
   "name": "python",
   "nbconvert_exporter": "python",
   "pygments_lexer": "ipython3",
   "version": "3.9.7"
  }
 },
 "nbformat": 4,
 "nbformat_minor": 5
}
