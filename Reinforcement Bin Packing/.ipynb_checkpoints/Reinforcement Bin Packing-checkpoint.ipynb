{
 "cells": [
  {
   "cell_type": "markdown",
   "metadata": {},
   "source": [
    "### 1. Import dependencies"
   ]
  },
  {
   "cell_type": "code",
   "execution_count": null,
   "metadata": {},
   "outputs": [],
   "source": [
    "!pip install tensorflow==2.7.0\n",
    "!pip install gym\n",
    "!pip install keras\n",
    "!pip install keras-rl2"
   ]
  },
  {
   "cell_type": "code",
   "execution_count": 1,
   "metadata": {},
   "outputs": [],
   "source": [
    "from gym.spaces import Discrete, Box\n",
    "import numpy as np\n",
    "import matplotlib.pyplot as plt\n",
    "import random\n",
    "\n",
    "from BinPackingEnvironment1D import BinPacking"
   ]
  },
  {
   "cell_type": "markdown",
   "metadata": {},
   "source": [
    "### 2. Create environment"
   ]
  },
  {
   "cell_type": "code",
   "execution_count": 2,
   "metadata": {},
   "outputs": [],
   "source": [
    "env = BinPacking(num_bins=10, capacity=20, min_item_size=1)"
   ]
  },
  {
   "cell_type": "code",
   "execution_count": 3,
   "metadata": {},
   "outputs": [
    {
     "data": {
      "text/plain": [
       "8"
      ]
     },
     "execution_count": 3,
     "metadata": {},
     "output_type": "execute_result"
    }
   ],
   "source": [
    "env.action_space.sample()"
   ]
  },
  {
   "cell_type": "code",
   "execution_count": 4,
   "metadata": {},
   "outputs": [
    {
     "data": {
      "text/plain": [
       "array([11, 19, 18, 16, 14, 16, 17,  0, 20,  3, 20])"
      ]
     },
     "execution_count": 4,
     "metadata": {},
     "output_type": "execute_result"
    }
   ],
   "source": [
    "env.observation_space.sample()"
   ]
  },
  {
   "cell_type": "markdown",
   "metadata": {},
   "source": [
    "### 3. Run baseline test (No ML)"
   ]
  },
  {
   "cell_type": "code",
   "execution_count": 5,
   "metadata": {},
   "outputs": [
    {
     "name": "stdout",
     "output_type": "stream",
     "text": [
      "Episode:1 Score:-4836\n",
      "{'placed': 42, 'misplaced': 878, 'discarded': 80}\n",
      "Episode:2 Score:-4189\n",
      "{'placed': 46, 'misplaced': 841, 'discarded': 113}\n",
      "Episode:3 Score:-5627\n",
      "{'placed': 48, 'misplaced': 871, 'discarded': 81}\n",
      "Episode:4 Score:-4525\n",
      "{'placed': 48, 'misplaced': 871, 'discarded': 81}\n",
      "Episode:5 Score:-4556\n",
      "{'placed': 54, 'misplaced': 864, 'discarded': 82}\n",
      "Episode:6 Score:-4630\n",
      "{'placed': 54, 'misplaced': 853, 'discarded': 93}\n",
      "Episode:7 Score:-4897\n",
      "{'placed': 51, 'misplaced': 866, 'discarded': 83}\n",
      "Episode:8 Score:-4999\n",
      "{'placed': 48, 'misplaced': 849, 'discarded': 103}\n",
      "Episode:9 Score:-4744\n",
      "{'placed': 57, 'misplaced': 843, 'discarded': 100}\n",
      "Episode:10 Score:-4652\n",
      "{'placed': 50, 'misplaced': 868, 'discarded': 82}\n"
     ]
    }
   ],
   "source": [
    "MAX_STEPS = 1000\n",
    "episodes = 10\n",
    "\n",
    "for episode in range(1, episodes+1):\n",
    "    state = env.reset()\n",
    "    steps = 0\n",
    "    done = False\n",
    "    score = 0\n",
    "    \n",
    "    while not done and steps < MAX_STEPS:\n",
    "        action = env.action_space.sample()\n",
    "        n_state, reward, done, info = env.step(action)\n",
    "        score += reward\n",
    "        steps += 1\n",
    "\n",
    "    print('Episode:{} Score:{}'.format(episode,score))\n",
    "    print(env.metadata)"
   ]
  },
  {
   "cell_type": "markdown",
   "metadata": {},
   "source": [
    "### 4. Train an RL Model"
   ]
  },
  {
   "cell_type": "code",
   "execution_count": 6,
   "metadata": {},
   "outputs": [],
   "source": [
    "import os\n",
    "import gym\n",
    "from stable_baselines3 import PPO\n",
    "from stable_baselines3.common.vec_env import DummyVecEnv\n",
    "from stable_baselines3.common.evaluation import evaluate_policy"
   ]
  },
  {
   "cell_type": "code",
   "execution_count": 7,
   "metadata": {},
   "outputs": [],
   "source": [
    "# Will throw an error if these don't exist\n",
    "log_path = os.path.join('Training', 'Logs')"
   ]
  },
  {
   "cell_type": "code",
   "execution_count": 8,
   "metadata": {},
   "outputs": [],
   "source": [
    "env = BinPacking(num_bins=10, capacity=20, min_item_size=1)\n",
    "env = DummyVecEnv([lambda: env])"
   ]
  },
  {
   "cell_type": "code",
   "execution_count": 9,
   "metadata": {},
   "outputs": [
    {
     "name": "stdout",
     "output_type": "stream",
     "text": [
      "{'placed': 0, 'misplaced': 0, 'discarded': 0}\n"
     ]
    }
   ],
   "source": [
    "print(env.metadata)"
   ]
  },
  {
   "cell_type": "code",
   "execution_count": 10,
   "metadata": {},
   "outputs": [
    {
     "name": "stdout",
     "output_type": "stream",
     "text": [
      "Using cpu device\n"
     ]
    }
   ],
   "source": [
    "model = PPO('MlpPolicy', env, verbose=1, tensorboard_log=log_path)"
   ]
  },
  {
   "cell_type": "code",
   "execution_count": 11,
   "metadata": {},
   "outputs": [
    {
     "name": "stdout",
     "output_type": "stream",
     "text": [
      "Logging to Training\\Logs\\PPO_14\n",
      "-----------------------------\n",
      "| time/              |      |\n",
      "|    fps             | 313  |\n",
      "|    iterations      | 1    |\n",
      "|    time_elapsed    | 6    |\n",
      "|    total_timesteps | 2048 |\n",
      "-----------------------------\n",
      "----------------------------------------\n",
      "| time/                   |            |\n",
      "|    fps                  | 427        |\n",
      "|    iterations           | 2          |\n",
      "|    time_elapsed         | 9          |\n",
      "|    total_timesteps      | 4096       |\n",
      "| train/                  |            |\n",
      "|    approx_kl            | 0.01604224 |\n",
      "|    clip_fraction        | 0.109      |\n",
      "|    clip_range           | 0.2        |\n",
      "|    entropy_loss         | -2.39      |\n",
      "|    explained_variance   | 0.000648   |\n",
      "|    learning_rate        | 0.0003     |\n",
      "|    loss                 | 2.59e+03   |\n",
      "|    n_updates            | 10         |\n",
      "|    policy_gradient_loss | -0.0134    |\n",
      "|    value_loss           | 5.72e+03   |\n",
      "----------------------------------------\n",
      "-----------------------------------------\n",
      "| time/                   |             |\n",
      "|    fps                  | 483         |\n",
      "|    iterations           | 3           |\n",
      "|    time_elapsed         | 12          |\n",
      "|    total_timesteps      | 6144        |\n",
      "| train/                  |             |\n",
      "|    approx_kl            | 0.012270812 |\n",
      "|    clip_fraction        | 0.0983      |\n",
      "|    clip_range           | 0.2         |\n",
      "|    entropy_loss         | -2.36       |\n",
      "|    explained_variance   | 0.029       |\n",
      "|    learning_rate        | 0.0003      |\n",
      "|    loss                 | 2.14e+03    |\n",
      "|    n_updates            | 20          |\n",
      "|    policy_gradient_loss | -0.0105     |\n",
      "|    value_loss           | 5.29e+03    |\n",
      "-----------------------------------------\n",
      "----------------------------------------\n",
      "| time/                   |            |\n",
      "|    fps                  | 528        |\n",
      "|    iterations           | 4          |\n",
      "|    time_elapsed         | 15         |\n",
      "|    total_timesteps      | 8192       |\n",
      "| train/                  |            |\n",
      "|    approx_kl            | 0.01648597 |\n",
      "|    clip_fraction        | 0.112      |\n",
      "|    clip_range           | 0.2        |\n",
      "|    entropy_loss         | -2.33      |\n",
      "|    explained_variance   | 0.024      |\n",
      "|    learning_rate        | 0.0003     |\n",
      "|    loss                 | 1.44e+03   |\n",
      "|    n_updates            | 30         |\n",
      "|    policy_gradient_loss | -0.0155    |\n",
      "|    value_loss           | 3.17e+03   |\n",
      "----------------------------------------\n",
      "------------------------------------------\n",
      "| time/                   |              |\n",
      "|    fps                  | 548          |\n",
      "|    iterations           | 5            |\n",
      "|    time_elapsed         | 18           |\n",
      "|    total_timesteps      | 10240        |\n",
      "| train/                  |              |\n",
      "|    approx_kl            | 0.0141603565 |\n",
      "|    clip_fraction        | 0.175        |\n",
      "|    clip_range           | 0.2          |\n",
      "|    entropy_loss         | -2.24        |\n",
      "|    explained_variance   | 0.00693      |\n",
      "|    learning_rate        | 0.0003       |\n",
      "|    loss                 | 1.01e+03     |\n",
      "|    n_updates            | 40           |\n",
      "|    policy_gradient_loss | -0.022       |\n",
      "|    value_loss           | 2.45e+03     |\n",
      "------------------------------------------\n",
      "-----------------------------------------\n",
      "| time/                   |             |\n",
      "|    fps                  | 573         |\n",
      "|    iterations           | 6           |\n",
      "|    time_elapsed         | 21          |\n",
      "|    total_timesteps      | 12288       |\n",
      "| train/                  |             |\n",
      "|    approx_kl            | 0.010449339 |\n",
      "|    clip_fraction        | 0.183       |\n",
      "|    clip_range           | 0.2         |\n",
      "|    entropy_loss         | -2.2        |\n",
      "|    explained_variance   | 0.00641     |\n",
      "|    learning_rate        | 0.0003      |\n",
      "|    loss                 | 574         |\n",
      "|    n_updates            | 50          |\n",
      "|    policy_gradient_loss | -0.0237     |\n",
      "|    value_loss           | 1.42e+03    |\n",
      "-----------------------------------------\n",
      "-----------------------------------------\n",
      "| time/                   |             |\n",
      "|    fps                  | 586         |\n",
      "|    iterations           | 7           |\n",
      "|    time_elapsed         | 24          |\n",
      "|    total_timesteps      | 14336       |\n",
      "| train/                  |             |\n",
      "|    approx_kl            | 0.009517489 |\n",
      "|    clip_fraction        | 0.153       |\n",
      "|    clip_range           | 0.2         |\n",
      "|    entropy_loss         | -2.18       |\n",
      "|    explained_variance   | 0.00599     |\n",
      "|    learning_rate        | 0.0003      |\n",
      "|    loss                 | 300         |\n",
      "|    n_updates            | 60          |\n",
      "|    policy_gradient_loss | -0.0222     |\n",
      "|    value_loss           | 799         |\n",
      "-----------------------------------------\n",
      "------------------------------------------\n",
      "| time/                   |              |\n",
      "|    fps                  | 599          |\n",
      "|    iterations           | 8            |\n",
      "|    time_elapsed         | 27           |\n",
      "|    total_timesteps      | 16384        |\n",
      "| train/                  |              |\n",
      "|    approx_kl            | 0.0145480335 |\n",
      "|    clip_fraction        | 0.159        |\n",
      "|    clip_range           | 0.2          |\n",
      "|    entropy_loss         | -2.15        |\n",
      "|    explained_variance   | 0.00478      |\n",
      "|    learning_rate        | 0.0003       |\n",
      "|    loss                 | 151          |\n",
      "|    n_updates            | 70           |\n",
      "|    policy_gradient_loss | -0.0207      |\n",
      "|    value_loss           | 364          |\n",
      "------------------------------------------\n",
      "-----------------------------------------\n",
      "| time/                   |             |\n",
      "|    fps                  | 595         |\n",
      "|    iterations           | 9           |\n",
      "|    time_elapsed         | 30          |\n",
      "|    total_timesteps      | 18432       |\n",
      "| train/                  |             |\n",
      "|    approx_kl            | 0.012723081 |\n",
      "|    clip_fraction        | 0.135       |\n",
      "|    clip_range           | 0.2         |\n",
      "|    entropy_loss         | -2.14       |\n",
      "|    explained_variance   | 0.00311     |\n",
      "|    learning_rate        | 0.0003      |\n",
      "|    loss                 | 72.6        |\n",
      "|    n_updates            | 80          |\n",
      "|    policy_gradient_loss | -0.0206     |\n",
      "|    value_loss           | 198         |\n",
      "-----------------------------------------\n",
      "-----------------------------------------\n",
      "| time/                   |             |\n",
      "|    fps                  | 601         |\n",
      "|    iterations           | 10          |\n",
      "|    time_elapsed         | 34          |\n",
      "|    total_timesteps      | 20480       |\n",
      "| train/                  |             |\n",
      "|    approx_kl            | 0.012831276 |\n",
      "|    clip_fraction        | 0.118       |\n",
      "|    clip_range           | 0.2         |\n",
      "|    entropy_loss         | -2.07       |\n",
      "|    explained_variance   | 0.00246     |\n",
      "|    learning_rate        | 0.0003      |\n",
      "|    loss                 | 26.3        |\n",
      "|    n_updates            | 90          |\n",
      "|    policy_gradient_loss | -0.0186     |\n",
      "|    value_loss           | 126         |\n",
      "-----------------------------------------\n"
     ]
    },
    {
     "data": {
      "text/plain": [
       "<stable_baselines3.ppo.ppo.PPO at 0x135a55ce7c0>"
      ]
     },
     "execution_count": 11,
     "metadata": {},
     "output_type": "execute_result"
    }
   ],
   "source": [
    "model.learn(total_timesteps=20000)"
   ]
  },
  {
   "cell_type": "markdown",
   "metadata": {},
   "source": [
    "### 5. Save model"
   ]
  },
  {
   "cell_type": "code",
   "execution_count": 12,
   "metadata": {},
   "outputs": [],
   "source": [
    "PPO_Path = os.path.join('Training', 'Saved Models', 'PPO_Model')"
   ]
  },
  {
   "cell_type": "code",
   "execution_count": 13,
   "metadata": {},
   "outputs": [],
   "source": [
    "model.save(PPO_Path)"
   ]
  },
  {
   "cell_type": "markdown",
   "metadata": {},
   "source": [
    "### 6. Load model"
   ]
  },
  {
   "cell_type": "code",
   "execution_count": null,
   "metadata": {},
   "outputs": [],
   "source": [
    "model = PPO.load(PPO_Path, env=env)"
   ]
  },
  {
   "cell_type": "markdown",
   "metadata": {},
   "source": [
    "### 7. Test model"
   ]
  },
  {
   "cell_type": "code",
   "execution_count": 14,
   "metadata": {},
   "outputs": [
    {
     "name": "stdout",
     "output_type": "stream",
     "text": [
      "{'placed': 0, 'misplaced': 0, 'discarded': 0}\n",
      "Episode:1 Score:[-719.]\n",
      "{'placed': 0, 'misplaced': 0, 'discarded': 0}\n",
      "Episode:2 Score:[-707.]\n",
      "{'placed': 0, 'misplaced': 0, 'discarded': 0}\n",
      "Episode:3 Score:[-883.]\n",
      "{'placed': 0, 'misplaced': 0, 'discarded': 0}\n",
      "Episode:4 Score:[-807.]\n",
      "{'placed': 0, 'misplaced': 0, 'discarded': 0}\n",
      "Episode:5 Score:[-711.]\n",
      "{'placed': 0, 'misplaced': 0, 'discarded': 0}\n",
      "Episode:6 Score:[-883.]\n",
      "{'placed': 0, 'misplaced': 0, 'discarded': 0}\n",
      "Episode:7 Score:[-858.]\n",
      "{'placed': 0, 'misplaced': 0, 'discarded': 0}\n",
      "Episode:8 Score:[-848.]\n",
      "{'placed': 0, 'misplaced': 0, 'discarded': 0}\n",
      "Episode:9 Score:[-786.]\n",
      "{'placed': 0, 'misplaced': 0, 'discarded': 0}\n",
      "Episode:10 Score:[-782.]\n"
     ]
    }
   ],
   "source": [
    "MAX_STEPS = 1000\n",
    "episodes = 10\n",
    "\n",
    "for episode in range(1, episodes+1):\n",
    "    obs = env.reset()\n",
    "    steps = 0\n",
    "    done = False\n",
    "    score = 0\n",
    "    \n",
    "    while not done and steps < MAX_STEPS:\n",
    "        action, _ = model.predict(obs)\n",
    "        obs, reward, done, info = env.step(action)\n",
    "        score += reward\n",
    "        steps += 1\n",
    "\n",
    "    print(env.metadata)\n",
    "    env.metadata = { 'placed':0, 'misplaced':0, 'discarded':0 }\n",
    "    print('Episode:{} Score:{}'.format(episode,score))"
   ]
  },
  {
   "cell_type": "code",
   "execution_count": null,
   "metadata": {},
   "outputs": [],
   "source": [
    "print(env.metadata)"
   ]
  },
  {
   "cell_type": "code",
   "execution_count": null,
   "metadata": {},
   "outputs": [],
   "source": []
  }
 ],
 "metadata": {
  "kernelspec": {
   "display_name": "Python 3",
   "language": "python",
   "name": "python3"
  },
  "language_info": {
   "codemirror_mode": {
    "name": "ipython",
    "version": 3
   },
   "file_extension": ".py",
   "mimetype": "text/x-python",
   "name": "python",
   "nbconvert_exporter": "python",
   "pygments_lexer": "ipython3",
   "version": "3.8.5"
  }
 },
 "nbformat": 4,
 "nbformat_minor": 5
}
