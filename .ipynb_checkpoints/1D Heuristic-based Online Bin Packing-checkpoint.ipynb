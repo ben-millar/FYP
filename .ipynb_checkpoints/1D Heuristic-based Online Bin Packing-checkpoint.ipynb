{
 "cells": [
  {
   "cell_type": "markdown",
   "id": "de154d10",
   "metadata": {},
   "source": [
    "#### Import dependencies"
   ]
  },
  {
   "cell_type": "code",
   "execution_count": 158,
   "id": "461e75dc",
   "metadata": {},
   "outputs": [],
   "source": [
    "import math\n",
    "# generate random integer values\n",
    "from random import seed\n",
    "from random import randint\n",
    "# seed random number generator\n",
    "seed(1)"
   ]
  },
  {
   "cell_type": "markdown",
   "id": "61a528ec",
   "metadata": {},
   "source": [
    "#### Generate 1000 items in range 0 -> bin_capacity"
   ]
  },
  {
   "cell_type": "code",
   "execution_count": 159,
   "id": "7f4d2208",
   "metadata": {},
   "outputs": [],
   "source": [
    "bin_capacity = 10\n",
    "items = [randint(0, bin_capacity) for _ in range(1000)]"
   ]
  },
  {
   "cell_type": "markdown",
   "id": "678428a9",
   "metadata": {},
   "source": [
    "#### Determine the minimum number of bins that could be used"
   ]
  },
  {
   "cell_type": "code",
   "execution_count": 160,
   "id": "cd4243a0",
   "metadata": {},
   "outputs": [],
   "source": [
    "def lowerBound(items, bin_capacity):\n",
    "    return math.ceil(sum(items)/bin_capacity)"
   ]
  },
  {
   "cell_type": "markdown",
   "id": "9eaca45b",
   "metadata": {},
   "source": [
    "#### Next Fit Algorithm"
   ]
  },
  {
   "cell_type": "code",
   "execution_count": 161,
   "id": "98423086",
   "metadata": {},
   "outputs": [],
   "source": [
    "def nextfit(items, bin_capacity):\n",
    "    res = 0\n",
    "    rem = bin_capacity\n",
    "    for i in range(len(items)):\n",
    "        if rem >= items[i]:\n",
    "            rem = rem - items[i]\n",
    "        else:\n",
    "            res += 1\n",
    "            rem = bin_capacity - items[i]\n",
    "    return res"
   ]
  },
  {
   "cell_type": "markdown",
   "id": "87edc8df",
   "metadata": {},
   "source": [
    "#### First Fit Algorithm"
   ]
  },
  {
   "cell_type": "code",
   "execution_count": 162,
   "id": "e1c1cad9",
   "metadata": {},
   "outputs": [],
   "source": [
    "def firstFit(items, bin_capacity):\n",
    "    res = 0\n",
    "\n",
    "    bin_rem = [0]*len(items)\n",
    "    \n",
    "    for i in range(len(items)):\n",
    "        j = 0\n",
    "        while (j < res):\n",
    "            if (bin_rem[j] >= items[i]):\n",
    "                bin_rem[j] = bin_rem[j] - items[i]\n",
    "                break\n",
    "            j+=1\n",
    "            \n",
    "        if (j == res):\n",
    "            bin_rem[res] = bin_capacity - items[i]\n",
    "            res = res + 1\n",
    "    return res"
   ]
  },
  {
   "cell_type": "code",
   "execution_count": 165,
   "id": "4458e7cc",
   "metadata": {},
   "outputs": [],
   "source": [
    "def firstFitDecreasing(items, bin_capacity):\n",
    "    sorted_items = items.sort(reverse=True)\n",
    "    return firstFit(items, bin_capacity)\n",
    "    "
   ]
  },
  {
   "cell_type": "code",
   "execution_count": 166,
   "id": "244bc7b8",
   "metadata": {},
   "outputs": [
    {
     "name": "stdout",
     "output_type": "stream",
     "text": [
      "Lower bound: 503 bins required\n",
      "Next fit: 608 bins used. 82.73% efficiency\n",
      "First fit: 508 bins used. 99.02% efficiency\n",
      "First fit decreasing: 508 bins used. 99.02% efficiency\n"
     ]
    }
   ],
   "source": [
    "lower_bound = lowerBound(items, bin_capacity)\n",
    "nf = nextfit(items, bin_capacity)\n",
    "ff = firstFit(items, bin_capacity)\n",
    "ffd = firstFitDecreasing(items, bin_capacity)\n",
    "print(f\"Lower bound: {lowerBound(items, bin_capacity)} bins required\")\n",
    "print(f\"Next fit: {nf} bins used. {round((lower_bound/nf)*100,2)}% efficiency\")\n",
    "print(f\"First fit: {ff} bins used. {round((lower_bound/ff)*100,2)}% efficiency\")\n",
    "print(f\"First fit decreasing: {ffd} bins used. {round((lower_bound/ffd)*100,2)}% efficiency\")"
   ]
  },
  {
   "cell_type": "code",
   "execution_count": null,
   "id": "590b4c56",
   "metadata": {},
   "outputs": [],
   "source": []
  }
 ],
 "metadata": {
  "kernelspec": {
   "display_name": "Python 3 (ipykernel)",
   "language": "python",
   "name": "python3"
  },
  "language_info": {
   "codemirror_mode": {
    "name": "ipython",
    "version": 3
   },
   "file_extension": ".py",
   "mimetype": "text/x-python",
   "name": "python",
   "nbconvert_exporter": "python",
   "pygments_lexer": "ipython3",
   "version": "3.9.7"
  }
 },
 "nbformat": 4,
 "nbformat_minor": 5
}
