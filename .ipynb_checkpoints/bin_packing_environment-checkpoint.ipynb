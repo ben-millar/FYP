{
 "cells": [
  {
   "cell_type": "code",
   "execution_count": null,
   "metadata": {},
   "outputs": [],
   "source": [
    "class BinPacking(object):\n",
    "    def __init__(self, num_bins, capacity) -> None:\n",
    "        self.capacity = capacity # Max capacity of a bin\n",
    "        self.num_bins = num_bins\n",
    "\n",
    "        # An array of bins with an integer representing their remaining capacity\n",
    "        self.state = np.full((self.num_bins), self.capacity)\n",
    "        \n",
    "        # Our actions will index into our array of bins\n",
    "        self.action_space = Discrete(len(self.state))\n",
    "\n",
    "\n",
    "    def step(self, item_size, action):\n",
    "        # Generate a random integer between 1 and our max capacity\n",
    "        #new_item = np.random.randint(low=1, high=self.capacity, size=1)\n",
    "        if self.state[action] < item_size:\n",
    "            reward = -1\n",
    "        else:\n",
    "            self.state[action] -= item_size \n",
    "            reward = item_size\n",
    "\n",
    "        # Returns true if all of our bins are at 0 capacity\n",
    "        isTerminalState = np.all((0 == self.state))\n",
    "\n",
    "        # Empty placeholder debug info dict\n",
    "        info = {}\n",
    "\n",
    "        return self.state, reward, isTerminalState, info\n",
    "\n",
    "    def render(self):\n",
    "        pass\n",
    "\n",
    "    def reset(self):\n",
    "        self.state = np.full((self.num_bins), self.capacity)\n",
    "        return self.state"
   ]
  }
 ],
 "metadata": {
  "kernelspec": {
   "display_name": "Python 3",
   "language": "python",
   "name": "python3"
  },
  "language_info": {
   "codemirror_mode": {
    "name": "ipython",
    "version": 3
   },
   "file_extension": ".py",
   "mimetype": "text/x-python",
   "name": "python",
   "nbconvert_exporter": "python",
   "pygments_lexer": "ipython3",
   "version": "3.8.5"
  }
 },
 "nbformat": 4,
 "nbformat_minor": 4
}
